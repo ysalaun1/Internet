{
 "cells": [
  {
   "cell_type": "markdown",
   "metadata": {},
   "source": [
    "# TP Python Boucle bornée"
   ]
  },
  {
   "cell_type": "markdown",
   "metadata": {},
   "source": [
    "## Rappels de la syntaxe"
   ]
  },
  {
   "cell_type": "markdown",
   "metadata": {},
   "source": [
    "Une boucle bornée est utilisée lorsque l'on connaît excatement et à l'avance le nombre de répétitions à effectuer.\n",
    "\n",
    "En python, pour utiliser une boucle bornée, on se base (le plus souvent) sur la fonction range().\n",
    "\n",
    "Exemples :"
   ]
  },
  {
   "cell_type": "markdown",
   "metadata": {},
   "source": [
    "1. La fonction range avec un seul argument. Cet argument désigne le nombre de tour de boucle à effectuer."
   ]
  },
  {
   "cell_type": "code",
   "execution_count": null,
   "metadata": {},
   "outputs": [],
   "source": [
    "for i in range(5):\n",
    "    print(i)"
   ]
  },
  {
   "cell_type": "markdown",
   "metadata": {},
   "source": [
    "2. La fonction range avec deux arguments. Le premier désigne la première valeur du compteur et le deuxième désigne la valeur qui suit la dernière valeur du compteur."
   ]
  },
  {
   "cell_type": "code",
   "execution_count": null,
   "metadata": {},
   "outputs": [],
   "source": [
    "for i in range(3,9):\n",
    "    print(i)"
   ]
  },
  {
   "cell_type": "markdown",
   "metadata": {},
   "source": [
    "3. La fonction range avec trois arguments. Le premier désigne la première valeur du compteur, le deuxième désigne la valeur qui suit la dernière valeur du compteur et le troisième désigne le pas."
   ]
  },
  {
   "cell_type": "code",
   "execution_count": null,
   "metadata": {},
   "outputs": [],
   "source": [
    "for i in range(2,17,3):\n",
    "    print(i)"
   ]
  },
  {
   "cell_type": "markdown",
   "metadata": {},
   "source": [
    "## Premier exercice "
   ]
  },
  {
   "cell_type": "markdown",
   "metadata": {},
   "source": [
    "1. Ecrire un script qui affiche les 10 premiers entiers naturels."
   ]
  },
  {
   "cell_type": "code",
   "execution_count": null,
   "metadata": {},
   "outputs": [],
   "source": []
  },
  {
   "cell_type": "markdown",
   "metadata": {},
   "source": [
    "2. Ecrire un script qui affiche tous les entiers naturels pairs inférieurs à 50."
   ]
  },
  {
   "cell_type": "code",
   "execution_count": null,
   "metadata": {},
   "outputs": [],
   "source": []
  },
  {
   "cell_type": "markdown",
   "metadata": {},
   "source": [
    "3. Ecrire un script qui affiche tous les multiples de 3, inférieurs à 50."
   ]
  },
  {
   "cell_type": "code",
   "execution_count": null,
   "metadata": {},
   "outputs": [],
   "source": []
  },
  {
   "cell_type": "markdown",
   "metadata": {},
   "source": [
    "4. Ecrire un script qui affiche tous les multiples de 3 et de 7, inférieurs à 50."
   ]
  },
  {
   "cell_type": "code",
   "execution_count": null,
   "metadata": {},
   "outputs": [],
   "source": []
  },
  {
   "cell_type": "markdown",
   "metadata": {},
   "source": [
    "## Deuxième exercice"
   ]
  },
  {
   "cell_type": "markdown",
   "metadata": {},
   "source": [
    "### Partie A\n",
    "Au 1er janvier 2018,Carole verse sur son livret jeune 1500 €.Le taux de rémunération est de 2,5%.\n",
    "\n",
    "Compléter le programme Python qui permet de calculer et d'afficher chaque 1er janvier son nouveau capital jusqu'au 1er janvier 2030."
   ]
  },
  {
   "cell_type": "code",
   "execution_count": null,
   "metadata": {},
   "outputs": [],
   "source": [
    "C = '''à compléter'''\n",
    "for i in range('''à compléter'''):\n",
    "    C= '''à compléter'''\n",
    "print('Le capital au bout de',i,'années est :',round(C,2))"
   ]
  },
  {
   "cell_type": "markdown",
   "metadata": {},
   "source": [
    "### Partie B : avec des fonctions"
   ]
  },
  {
   "cell_type": "markdown",
   "metadata": {},
   "source": [
    "#### 1. Avec une variable\n",
    "\n",
    "Quel sera son capital si elle place 1500 €, 2000 €, 4500 €, 10 000 € ?\n",
    "\n",
    "Pour répondre à cette question nous allons écrire une fonction.\n",
    "\n",
    "Compléter le script suivant pour que la fonction Capital retourne le capital au 1er janvier 2030 en fonction du capital C placé au 1er janvier 2018 au taux de 2,5 % :"
   ]
  },
  {
   "cell_type": "code",
   "execution_count": null,
   "metadata": {},
   "outputs": [],
   "source": [
    "def capital('''à compléter'''):\n",
    "    for i in range(12):\n",
    "        '''à compléter'''\n",
    "    print('Le capital au premier janvier 2030 est :','''à compléter''')"
   ]
  },
  {
   "cell_type": "markdown",
   "metadata": {},
   "source": [
    "#### 2. Avec deux variables\n",
    "\n",
    "On souhaite maintenant connaître le capital le 1er janvier 2030, 2035, 2040, 2045, et selon le montant placé.\n",
    "\n",
    "Compléter le script suivant pour que la fonction Capital2 retourne le capital au 1er janvier\n",
    "2018 + N en fonction du capital C, placé au 1er janvier 2018 au taux de 2,5 %, et de N :"
   ]
  },
  {
   "cell_type": "code",
   "execution_count": null,
   "metadata": {},
   "outputs": [],
   "source": [
    "def capital2('''à compléter'''):\n",
    "    for i in ''' à compléter''':\n",
    "        '''à compléter'''\n",
    "    print(\"Le capital au premier janvier de l'année\",'''à compléter''',\"est :\",'''à compléter''')"
   ]
  },
  {
   "cell_type": "markdown",
   "metadata": {},
   "source": [
    "Combien aura-t-elle de capital en 2030, 2035, 2040, 2045 si elle place 3000 € au taux de 2,5% ?"
   ]
  },
  {
   "cell_type": "markdown",
   "metadata": {},
   "source": [
    "#### 3. Avec trois variables.\n",
    "\n",
    "On souhaite maintenant pourvoir faire varier le montant initial, le taux et la durée.\n",
    "\n",
    "Ecrire une fonction capital3 qui permet cela."
   ]
  },
  {
   "cell_type": "code",
   "execution_count": null,
   "metadata": {},
   "outputs": [],
   "source": []
  },
  {
   "cell_type": "markdown",
   "metadata": {},
   "source": [
    "Calculer le capital obtenu au premier janvier 2040, en plaçant 2000 € à un taux de 3 %."
   ]
  },
  {
   "cell_type": "markdown",
   "metadata": {},
   "source": [
    "Calculer le capital obtenu au premier janvier 2045, en plaçant 5000 € à un taux de 4 %."
   ]
  },
  {
   "cell_type": "markdown",
   "metadata": {},
   "source": [
    "## Exercice 3"
   ]
  },
  {
   "cell_type": "markdown",
   "metadata": {},
   "source": [
    "Un triplet Pythagoricien est un triplet d'entiers non nuls $a$, $b$ et $c$, tels que $$a^2+b^2=c^2$$\n",
    "\n",
    "1. Compléter le script ci-dessous pour qu'il affiche la liste de tous les triplets pythagoriciens, avec $c \\leqslant 30$.(\n",
    "On veut la liste avec $a < b$.)\n",
    "\n"
   ]
  },
  {
   "cell_type": "code",
   "execution_count": null,
   "metadata": {},
   "outputs": [],
   "source": [
    "for a in '''à compléter''':\n",
    "    for b in '''à compléter''':\n",
    "        for c in '''à compléter''':\n",
    "            if '''à compléter''':\n",
    "                print(a,b,c)"
   ]
  },
  {
   "cell_type": "markdown",
   "metadata": {},
   "source": [
    "2. Modifier le script précédent pour qu'il affiche le nombre N de triplets pythagoriciens avec c ≤ 200."
   ]
  },
  {
   "cell_type": "code",
   "execution_count": null,
   "metadata": {},
   "outputs": [],
   "source": []
  }
 ],
 "metadata": {
  "kernelspec": {
   "display_name": "Python 3",
   "language": "python",
   "name": "python3"
  },
  "language_info": {
   "codemirror_mode": {
    "name": "ipython",
    "version": 3
   },
   "file_extension": ".py",
   "mimetype": "text/x-python",
   "name": "python",
   "nbconvert_exporter": "python",
   "pygments_lexer": "ipython3",
   "version": "3.7.0"
  }
 },
 "nbformat": 4,
 "nbformat_minor": 2
}
