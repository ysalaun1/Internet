{
 "cells": [
  {
   "cell_type": "markdown",
   "metadata": {},
   "source": [
    "# TP : STATISTIQUES - CALCULS DE MOYENNES"
   ]
  },
  {
   "cell_type": "markdown",
   "metadata": {},
   "source": [
    "_Ce document est un notebook, avant de l'utiliser, merci de visionner le tuto-vidéo suivant :_\n",
    "<a href=\"http://www.google.fr\">tuto vidéo </a>"
   ]
  },
  {
   "cell_type": "markdown",
   "metadata": {},
   "source": [
    "## 1. Moyenne simple"
   ]
  },
  {
   "cell_type": "markdown",
   "metadata": {},
   "source": [
    "Au premier trimestre, en Mathématiqes, Luc a obtenu les notes suivantes : \n",
    "- DS 1 : 11\n",
    "- DS 2 : 7.5\n",
    "- DS 3 : 13.5\n",
    "\n",
    "Compléter la ligne indiquée dans le script Python de la cellule suivante, qui calcule la moyenne de 3 notes, puis déterminer la moyenne de Luc : "
   ]
  },
  {
   "cell_type": "code",
   "execution_count": 2,
   "metadata": {},
   "outputs": [
    {
     "name": "stdout",
     "output_type": "stream",
     "text": [
      "10.666666666666666\n"
     ]
    }
   ],
   "source": [
    "#La fonction moyenneTrim1 calcule la moyenne des 3 notes a,b et c.\n",
    "\n",
    "def moyenneTrim1(a,b,c):\n",
    "    m= (a+b+c)/3\n",
    "    return m\n",
    "\n",
    "print(moyenneTrim1(11,7.5,13.5))"
   ]
  },
  {
   "cell_type": "markdown",
   "metadata": {},
   "source": [
    "## 2. Moyenne pondérée"
   ]
  },
  {
   "cell_type": "markdown",
   "metadata": {},
   "source": [
    "Au second trimestre, le professeur a fait 2 interrogations et 3 DS. Toutes les notes sont sur 20 mais les interrogations sont coefficient 1 et les DS sont coefficient 2. \n",
    "Voici les notes obtenues par Luc : \n",
    "- DS 1 : 12\n",
    "- DS 2 : 9\n",
    "- DS 3 : 10.5\n",
    "- IE 1 : 17\n",
    "- IE 2 : 14\n",
    "\n",
    "Compléter la fonction moyenneTrim2 dans le script Python ci-dessous et déterminer la moyenne de Luc ce trimestre :"
   ]
  },
  {
   "cell_type": "code",
   "execution_count": 3,
   "metadata": {},
   "outputs": [
    {
     "name": "stdout",
     "output_type": "stream",
     "text": [
      "9.4\n"
     ]
    }
   ],
   "source": [
    "#La fonction moyenneTrim2 calcule la moyenne de 5 notes a,b,c,d et e, avec les coefficients 2,2,2,1 et 1.\n",
    "\n",
    "def moyenneTrim2(a,b,c,d,e):\n",
    "    m= (2*a+2*b+2*c+d+e)/10\n",
    "    return m\n",
    "    \n",
    "print(moyenneTrim2(12,9,10.5,17,14))\n",
    "    "
   ]
  },
  {
   "cell_type": "markdown",
   "metadata": {},
   "source": [
    "## 3. Avec des options"
   ]
  },
  {
   "cell_type": "markdown",
   "metadata": {},
   "source": [
    "Au troisième trimestre, le professeur a fait 3 DS, mais le troisième n'est pris en compte que pour les élèves qui ont obtenus la moyenne. (Pour les élèves qui n'ont pas la moyenne au DS 3, on ne prend en compte que les deux premiers DS).\n",
    "\n",
    "Compléter la fonction moyenneTrim3 dans le script Python ci-dessous :"
   ]
  },
  {
   "cell_type": "code",
   "execution_count": 10,
   "metadata": {},
   "outputs": [],
   "source": [
    "#La fonction moyennTrim3 calcule la moyenne obtenue au trimestre 3 avec les conditions énoncées ci-dessus.\n",
    "\n",
    "def moyenneTrim3(a,b,c):\n",
    "    if c>=10:\n",
    "        m = (a+b+c)/3\n",
    "    else :\n",
    "        m = (a+b)/2\n",
    "    return m"
   ]
  },
  {
   "cell_type": "markdown",
   "metadata": {},
   "source": [
    "A l'aide de la fonction moyenneTrim3, déterminer les moyennes obtenues par Luc et Marc au trimestre 3 : (_utiliser la cellule de code ci-dessous_)\n",
    "\n",
    "Notes de Luc : DS1 = 11; DS 2 = 15 ; DS 3 = 16.\n",
    "\n",
    "Notes de Marc : DS 1 = 5 ; DS 2 = 10 ; DS 3 = 9.\n"
   ]
  },
  {
   "cell_type": "code",
   "execution_count": 14,
   "metadata": {},
   "outputs": [
    {
     "data": {
      "text/plain": [
       "7.5"
      ]
     },
     "execution_count": 14,
     "metadata": {},
     "output_type": "execute_result"
    }
   ],
   "source": [
    "moyenneTrim3(5,10,9)"
   ]
  },
  {
   "cell_type": "markdown",
   "metadata": {},
   "source": [
    "## 4. Changement des règles."
   ]
  },
  {
   "cell_type": "markdown",
   "metadata": {},
   "source": [
    "Certains élèves se sentent défavorisés par cette dernière règle. Le professeur propose donc de l'aménager de la façon suivante : \n",
    "\n",
    "- Si la note obtenue au DS 3 fait augmenter la moyenne, elle est prise en compte.\n",
    "- Si la note obtenue au DS 3 fait baisser la moyenne, elle n'est pas prise en compte.\n",
    "\n",
    "Ecrire une fonction moyennTrim3Bis qui prend en compte cette nouvelle règle, puis calculer la moyenne de Luc et de Marc avec cette règle."
   ]
  },
  {
   "cell_type": "code",
   "execution_count": 15,
   "metadata": {},
   "outputs": [
    {
     "name": "stdout",
     "output_type": "stream",
     "text": [
      "14.0\n",
      "8.0\n"
     ]
    }
   ],
   "source": [
    "#La fonction moyennTrim4 applique les nouvelles règles.\n",
    "\n",
    "def moyenneTrim4(a,b,c):\n",
    "    if c>(a+b)/2:\n",
    "        m=(a+b+c)/3\n",
    "    else :\n",
    "        m=(a+b)/2\n",
    "    return m\n",
    "    \n",
    "print(moyenneTrim4(11,15,16))\n",
    "print(moyenneTrim4(5,10,9))"
   ]
  },
  {
   "cell_type": "markdown",
   "metadata": {},
   "source": [
    "Pour terminer, écrire une fonction moyenne() qui calcule la moyenne annuelle de Luc, c'est-à-dire la moyenne de ses moyennes trimestrielles."
   ]
  },
  {
   "cell_type": "code",
   "execution_count": 16,
   "metadata": {},
   "outputs": [
    {
     "name": "stdout",
     "output_type": "stream",
     "text": [
      "11.355555555555554\n"
     ]
    }
   ],
   "source": [
    "def moyenne():\n",
    "    t1=moyenneTrim1(11,7.5,13.5)\n",
    "    t2=moyenneTrim2(12,9,10.5,17,14)\n",
    "    t3=moyenneTrim4(11,15,16)\n",
    "    m=(t1+t2+t3)/3\n",
    "    return m\n",
    "print(moyenne())"
   ]
  },
  {
   "cell_type": "code",
   "execution_count": null,
   "metadata": {},
   "outputs": [],
   "source": []
  }
 ],
 "metadata": {
  "kernelspec": {
   "display_name": "Python 3",
   "language": "python",
   "name": "python3"
  },
  "language_info": {
   "codemirror_mode": {
    "name": "ipython",
    "version": 3
   },
   "file_extension": ".py",
   "mimetype": "text/x-python",
   "name": "python",
   "nbconvert_exporter": "python",
   "pygments_lexer": "ipython3",
   "version": "3.6.7"
  }
 },
 "nbformat": 4,
 "nbformat_minor": 2
}
