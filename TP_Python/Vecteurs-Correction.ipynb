{
 "cells": [
  {
   "cell_type": "markdown",
   "metadata": {},
   "source": [
    "# COORDONNEES DE VECTEURS"
   ]
  },
  {
   "cell_type": "markdown",
   "metadata": {},
   "source": [
    "## 1. Problème de départ\n",
    "\n",
    "Dans un repère (O;I,J), on considère les points A(15;-4) et B(20;5).\n",
    "\n",
    "On cherche à calculer les coodronnées du vecteur $\\vec{AB}$.\n",
    "\n",
    "Dans la cellule ci-dessous, écrire une fonction vecteur(xA,yA,xB,yB) qui prend en paramètres les coordonnées des points A et B et retourne les coordonnées du vecteur $\\vec{AB}$."
   ]
  },
  {
   "cell_type": "code",
   "execution_count": 1,
   "metadata": {},
   "outputs": [],
   "source": [
    "def vecteur(xA,yA,xB,yB):\n",
    "    return(xB-xA,yB-yA)"
   ]
  },
  {
   "cell_type": "markdown",
   "metadata": {},
   "source": [
    "Avec votre fonction vecteur, calculer les coordonnées des vecteurs $\\vec{AB}$ dans les cas suivants :\n",
    "- A(15;-4) et B(20;5)\n",
    "- A(2;-2) et B(-1;-1)\n",
    "- A(1;3) et B(1;6)"
   ]
  },
  {
   "cell_type": "code",
   "execution_count": 3,
   "metadata": {},
   "outputs": [
    {
     "data": {
      "text/plain": [
       "(5, 9)"
      ]
     },
     "execution_count": 3,
     "metadata": {},
     "output_type": "execute_result"
    }
   ],
   "source": [
    "vecteur(15,-4,20,5)"
   ]
  },
  {
   "cell_type": "code",
   "execution_count": 4,
   "metadata": {},
   "outputs": [
    {
     "data": {
      "text/plain": [
       "(-3, 1)"
      ]
     },
     "execution_count": 4,
     "metadata": {},
     "output_type": "execute_result"
    }
   ],
   "source": [
    "vecteur(2,-2,-1,-1)"
   ]
  },
  {
   "cell_type": "code",
   "execution_count": 5,
   "metadata": {},
   "outputs": [
    {
     "data": {
      "text/plain": [
       "(0, 3)"
      ]
     },
     "execution_count": 5,
     "metadata": {},
     "output_type": "execute_result"
    }
   ],
   "source": [
    "vecteur(1,3,1,6)"
   ]
  },
  {
   "cell_type": "markdown",
   "metadata": {},
   "source": [
    "## 2. Avec deux vecteurs\n",
    "\n",
    "Cette fois on dispose de 4 points : A(15;-4), B(20;5) , C(0;3) et D(-5;-5) et on veut tester si ABCD est un parallélogramme ou non.\n",
    "\n",
    "Ecrire une fonction parallelogramme(xA,yA,xB,yB,xC,yC,xD,yD) qui utilise la fonction vecteur du 1. pour calculer les coordonnées des vecteurs $\\vec{AB}$ et $\\vec{DC}$ puis teste si les vecteurs sont égaux ou non et écrit la réponse au problème.\n"
   ]
  },
  {
   "cell_type": "code",
   "execution_count": 6,
   "metadata": {},
   "outputs": [],
   "source": [
    "def parallelogramme(xA,yA,xB,yB,xC,yC,xD,yD):\n",
    "    if vecteur(xA,yA,xB,yB)==vecteur(xD,yD,xC,yC):\n",
    "        return True\n",
    "    else:\n",
    "        return False"
   ]
  },
  {
   "cell_type": "markdown",
   "metadata": {},
   "source": [
    "Tester votre programme avec les exemples suivants :\n",
    "\n",
    "- A(15;-4), B(20;5) , C(0;3) et D(-5;-5) \n",
    "- A(15;-4), B(20;5) , C(0;3) et D(-5;-6) \n",
    "- A(-2;1), B(2;4) , C(3;0) et D(-1;-3)"
   ]
  },
  {
   "cell_type": "code",
   "execution_count": 9,
   "metadata": {},
   "outputs": [
    {
     "data": {
      "text/plain": [
       "False"
      ]
     },
     "execution_count": 9,
     "metadata": {},
     "output_type": "execute_result"
    }
   ],
   "source": [
    "parallelogramme(15,-4,20,5,0,3,-5,-5)"
   ]
  },
  {
   "cell_type": "code",
   "execution_count": 8,
   "metadata": {},
   "outputs": [
    {
     "data": {
      "text/plain": [
       "True"
      ]
     },
     "execution_count": 8,
     "metadata": {},
     "output_type": "execute_result"
    }
   ],
   "source": [
    "parallelogramme(15,-4,20,5,0,3,-5,-6)"
   ]
  },
  {
   "cell_type": "code",
   "execution_count": 10,
   "metadata": {},
   "outputs": [
    {
     "data": {
      "text/plain": [
       "True"
      ]
     },
     "execution_count": 10,
     "metadata": {},
     "output_type": "execute_result"
    }
   ],
   "source": [
    "parallelogramme(-2,1,2,4,3,0,-1,-3)"
   ]
  },
  {
   "cell_type": "markdown",
   "metadata": {},
   "source": [
    "**Remarque :** On peut aussi utiliser les coordonnées du milieu d'un segment pour tester si on a un parallélogramme ou non."
   ]
  },
  {
   "cell_type": "markdown",
   "metadata": {},
   "source": [
    "## 3. Dernier problème\n",
    "\n",
    "Dans cette partie on connaît les coordonnées des points A, B et C et on cherche les coordonnées du point D tel que ABCD soit un parallélogramme.\n",
    "\n",
    "Ecrire une fonction sommet(xA,yA,xB,yB,xC,yC) qui prend en paramètres les coordonnées des 3 points A, B et C puis calcule, par la méthode de votre choix, les coordonnées du point D tel que ABCD soit un parallélogramme.\n"
   ]
  },
  {
   "cell_type": "code",
   "execution_count": 11,
   "metadata": {},
   "outputs": [],
   "source": [
    "def sommet(xA,yA,xB,yB,xC,yC):\n",
    "    return(xA-xB+xC,yA-yB+yC)"
   ]
  },
  {
   "cell_type": "markdown",
   "metadata": {},
   "source": [
    "Tester votre fonction sur les exemples suivants : \n",
    "\n",
    "- A(15;-4), B(20;5) , C(0;3) : D(........;........)\n",
    "- A(-2;1), B(3;3) , C(-2;4) : D(........;........)"
   ]
  },
  {
   "cell_type": "code",
   "execution_count": 12,
   "metadata": {},
   "outputs": [
    {
     "data": {
      "text/plain": [
       "(-5, -6)"
      ]
     },
     "execution_count": 12,
     "metadata": {},
     "output_type": "execute_result"
    }
   ],
   "source": [
    "sommet(15,-4,20,5,0,3)"
   ]
  },
  {
   "cell_type": "code",
   "execution_count": 13,
   "metadata": {},
   "outputs": [
    {
     "data": {
      "text/plain": [
       "(-7, 2)"
      ]
     },
     "execution_count": 13,
     "metadata": {},
     "output_type": "execute_result"
    }
   ],
   "source": [
    "sommet(-2,1,3,3,-2,4)"
   ]
  },
  {
   "cell_type": "code",
   "execution_count": null,
   "metadata": {},
   "outputs": [],
   "source": []
  }
 ],
 "metadata": {
  "kernelspec": {
   "display_name": "Python 3",
   "language": "python",
   "name": "python3"
  },
  "language_info": {
   "codemirror_mode": {
    "name": "ipython",
    "version": 3
   },
   "file_extension": ".py",
   "mimetype": "text/x-python",
   "name": "python",
   "nbconvert_exporter": "python",
   "pygments_lexer": "ipython3",
   "version": "3.7.0"
  }
 },
 "nbformat": 4,
 "nbformat_minor": 2
}
