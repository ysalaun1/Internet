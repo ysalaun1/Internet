{
 "cells": [
  {
   "cell_type": "markdown",
   "metadata": {},
   "source": [
    "# TP Python Boucle bornée"
   ]
  },
  {
   "cell_type": "markdown",
   "metadata": {},
   "source": [
    "## Rappels de la syntaxe"
   ]
  },
  {
   "cell_type": "markdown",
   "metadata": {},
   "source": [
    "Une boucle bornée est utilisée lorsque l'on connaît excatement et à l'avance le nombre de répétitions à effectuer.\n",
    "\n",
    "En python, pour utiliser une boucle bornée, on se base (le plus souvent) sur la fonction range().\n",
    "\n",
    "Exemples :"
   ]
  },
  {
   "cell_type": "markdown",
   "metadata": {},
   "source": [
    "1. La fonction range avec un seul argument. Cet argument désigne le nombre de tour de boucle à effectuer."
   ]
  },
  {
   "cell_type": "code",
   "execution_count": null,
   "metadata": {},
   "outputs": [],
   "source": [
    "for i in range(5):\n",
    "    print(i)"
   ]
  },
  {
   "cell_type": "markdown",
   "metadata": {},
   "source": [
    "2. La fonction range avec deux arguments. Le premier désigne la première valeur du compteur et le deuxième désigne la valeur qui suit la dernière valeur du compteur."
   ]
  },
  {
   "cell_type": "code",
   "execution_count": null,
   "metadata": {},
   "outputs": [],
   "source": [
    "for i in range(3,9):\n",
    "    print(i)"
   ]
  },
  {
   "cell_type": "markdown",
   "metadata": {},
   "source": [
    "3. La fonction range avec trois arguments. Le premier désigne la première valeur du compteur, le deuxième désigne la valeur qui suit la dernière valeur du compteur et le troisième désigne le pas."
   ]
  },
  {
   "cell_type": "code",
   "execution_count": null,
   "metadata": {},
   "outputs": [],
   "source": [
    "for i in range(2,17,3):\n",
    "    print(i)"
   ]
  },
  {
   "cell_type": "markdown",
   "metadata": {},
   "source": [
    "## Premier exercice "
   ]
  },
  {
   "cell_type": "markdown",
   "metadata": {},
   "source": [
    "1. Ecrire un script qui affiche les 10 premiers entiers naturels."
   ]
  },
  {
   "cell_type": "code",
   "execution_count": 1,
   "metadata": {},
   "outputs": [
    {
     "name": "stdout",
     "output_type": "stream",
     "text": [
      "0\n",
      "1\n",
      "2\n",
      "3\n",
      "4\n",
      "5\n",
      "6\n",
      "7\n",
      "8\n",
      "9\n"
     ]
    }
   ],
   "source": [
    "for i in range(10):\n",
    "    print(i)"
   ]
  },
  {
   "cell_type": "markdown",
   "metadata": {},
   "source": [
    "2. Ecrire un script qui affiche tous les entiers naturels pairs inférieurs à 50."
   ]
  },
  {
   "cell_type": "code",
   "execution_count": 2,
   "metadata": {},
   "outputs": [
    {
     "name": "stdout",
     "output_type": "stream",
     "text": [
      "0\n",
      "2\n",
      "4\n",
      "6\n",
      "8\n",
      "10\n",
      "12\n",
      "14\n",
      "16\n",
      "18\n",
      "20\n",
      "22\n",
      "24\n",
      "26\n",
      "28\n",
      "30\n",
      "32\n",
      "34\n",
      "36\n",
      "38\n",
      "40\n",
      "42\n",
      "44\n",
      "46\n",
      "48\n"
     ]
    }
   ],
   "source": [
    "for i in range(0,50,2):\n",
    "    print(i)"
   ]
  },
  {
   "cell_type": "markdown",
   "metadata": {},
   "source": [
    "3. Ecrire un script qui affiche tous les multiples de 3, inférieurs à 50."
   ]
  },
  {
   "cell_type": "code",
   "execution_count": 3,
   "metadata": {},
   "outputs": [
    {
     "name": "stdout",
     "output_type": "stream",
     "text": [
      "0\n",
      "3\n",
      "6\n",
      "9\n",
      "12\n",
      "15\n",
      "18\n",
      "21\n",
      "24\n",
      "27\n",
      "30\n",
      "33\n",
      "36\n",
      "39\n",
      "42\n",
      "45\n",
      "48\n"
     ]
    }
   ],
   "source": [
    "for i in range(0,50,3):\n",
    "    print(i)"
   ]
  },
  {
   "cell_type": "markdown",
   "metadata": {},
   "source": [
    "4. Ecrire un script qui affiche tous les multiples de 3 et de 7, inférieurs à 50."
   ]
  },
  {
   "cell_type": "code",
   "execution_count": 4,
   "metadata": {},
   "outputs": [
    {
     "name": "stdout",
     "output_type": "stream",
     "text": [
      "0\n",
      "21\n",
      "42\n"
     ]
    }
   ],
   "source": [
    "for i in range(50):\n",
    "    if i%3==0 and i%7==0:\n",
    "        print(i)"
   ]
  },
  {
   "cell_type": "markdown",
   "metadata": {},
   "source": [
    "## Deuxième exercice"
   ]
  },
  {
   "cell_type": "markdown",
   "metadata": {},
   "source": [
    "### Partie A\n",
    "Au 1er janvier 2018,Carole verse sur son livret jeune 1500 €.Le taux de rémunération est de 2,5%.\n",
    "\n",
    "Compléter le programme Python qui permet de calculer et d'afficher chaque 1er janvier son nouveau capital jusqu'au 1er janvier 2030."
   ]
  },
  {
   "cell_type": "code",
   "execution_count": 5,
   "metadata": {},
   "outputs": [
    {
     "name": "stdout",
     "output_type": "stream",
     "text": [
      "Le capital au bout de 11 années est : 2017.33\n"
     ]
    }
   ],
   "source": [
    "C = 1500\n",
    "for i in range(12):\n",
    "    C= C*1.025\n",
    "print('Le capital au bout de',i,'années est :',round(C,2))"
   ]
  },
  {
   "cell_type": "markdown",
   "metadata": {},
   "source": [
    "### Partie B : avec des fonctions"
   ]
  },
  {
   "cell_type": "markdown",
   "metadata": {},
   "source": [
    "#### 1. Avec une variable\n",
    "\n",
    "Quel sera son capital si elle place 1500 €, 2000 €, 4500 €, 10 000 € ?\n",
    "\n",
    "Pour répondre à cette question nous allons écrire une fonction.\n",
    "\n",
    "Compléter le script suivant pour que la fonction Capital retourne le capital au 1er janvier 2030 en fonction du capital C placé au 1er janvier 2018 au taux de 2,5 % :"
   ]
  },
  {
   "cell_type": "code",
   "execution_count": 8,
   "metadata": {},
   "outputs": [
    {
     "name": "stdout",
     "output_type": "stream",
     "text": [
      "Le capital au premier janvier 2030 est : 2017.33\n",
      "Le capital au premier janvier 2030 est : 2689.78\n",
      "Le capital au premier janvier 2030 est : 6052.0\n",
      "Le capital au premier janvier 2030 est : 13448.89\n"
     ]
    }
   ],
   "source": [
    "def capital(C):\n",
    "    for i in range(12):\n",
    "        C=C*1.025\n",
    "    print('Le capital au premier janvier 2030 est :',round(C,2))\n",
    "capital(1500)\n",
    "capital(2000)\n",
    "capital(4500)\n",
    "capital(10000)"
   ]
  },
  {
   "cell_type": "markdown",
   "metadata": {},
   "source": [
    "#### 2. Avec deux variables\n",
    "\n",
    "On souhaite maintenant connaître le capital le 1er janvier 2030, 2035, 2040, 2045, et selon le montant placé.\n",
    "\n",
    "Compléter le script suivant pour que la fonction Capital2 retourne le capital au 1er janvier\n",
    "2018 + N en fonction du capital C, placé au 1er janvier 2018 au taux de 2,5 %, et de N :"
   ]
  },
  {
   "cell_type": "code",
   "execution_count": 9,
   "metadata": {},
   "outputs": [
    {
     "name": "stdout",
     "output_type": "stream",
     "text": [
      "Le capital au premier janvier de l'année 2030 est : 4034.67\n",
      "Le capital au premier janvier de l'année 2035 est : 4564.85\n",
      "Le capital au premier janvier de l'année 2040 est : 5164.71\n",
      "Le capital au premier janvier de l'année 2045 est : 5843.4\n"
     ]
    }
   ],
   "source": [
    "def capital2(C,N):\n",
    "    for i in range(N):\n",
    "        C=C*1.025\n",
    "    print(\"Le capital au premier janvier de l'année\",2018+N,\"est :\",round(C,2))\n",
    "    \n",
    "capital2(3000,12)\n",
    "capital2(3000,17)\n",
    "capital2(3000,22)\n",
    "capital2(3000,27)"
   ]
  },
  {
   "cell_type": "markdown",
   "metadata": {},
   "source": [
    "Combien aura-t-elle de capital en 2030, 2035, 2040, 2045 si elle place 3000 € au taux de 2,5% ?"
   ]
  },
  {
   "cell_type": "markdown",
   "metadata": {},
   "source": [
    "#### 3. Avec trois variables.\n",
    "\n",
    "On souhaite maintenant pourvoir faire varier le montant initial, le taux et la durée.\n",
    "\n",
    "Ecrire une fonction capital3 qui permet cela."
   ]
  },
  {
   "cell_type": "code",
   "execution_count": 12,
   "metadata": {},
   "outputs": [
    {
     "name": "stdout",
     "output_type": "stream",
     "text": [
      "Le capital obtenu au premier janvier 2040 en plaçant 2000 € à 3 % est : 3832.21\n",
      "Le capital obtenu au premier janvier 2045 en plaçant 5000 € à 4 % est : 14416.84\n"
     ]
    }
   ],
   "source": [
    "def capital3(C,N,T):\n",
    "    C0=C\n",
    "    for i in range(N):\n",
    "        C=C*(1+T/100)\n",
    "    print(\"Le capital obtenu au premier janvier\",2018+N,\"en plaçant\",C0,\"€ à\",T,\"% est :\",round(C,2))\n",
    "capital3(2000,22,3)\n",
    "capital3(5000,27,4)"
   ]
  },
  {
   "cell_type": "markdown",
   "metadata": {},
   "source": [
    "Calculer le capital obtenu au premier janvier 2040, en plaçant 2000 € à un taux de 3 %."
   ]
  },
  {
   "cell_type": "markdown",
   "metadata": {},
   "source": [
    "Calculer le capital obtenu au premier janvier 2045, en plaçant 5000 € à un taux de 4 %."
   ]
  },
  {
   "cell_type": "markdown",
   "metadata": {},
   "source": [
    "## Exercice 3"
   ]
  },
  {
   "cell_type": "markdown",
   "metadata": {},
   "source": [
    "Un triplet Pythagoricien est un triplet d'entiers non nuls $a$, $b$ et $c$, tels que $$a^2+b^2=c^2$$\n",
    "\n",
    "1. Compléter le script ci-dessous pour qu'il affiche la liste de tous les triplets pythagoriciens, avec $c \\leqslant 30$.(\n",
    "On veut la liste avec $a < b$.)\n",
    "\n"
   ]
  },
  {
   "cell_type": "code",
   "execution_count": 14,
   "metadata": {},
   "outputs": [
    {
     "name": "stdout",
     "output_type": "stream",
     "text": [
      "3 4 5\n",
      "5 12 13\n",
      "6 8 10\n",
      "7 24 25\n",
      "8 15 17\n",
      "9 12 15\n",
      "10 24 26\n",
      "12 16 20\n",
      "15 20 25\n",
      "18 24 30\n",
      "20 21 29\n"
     ]
    }
   ],
   "source": [
    "for a in range(1,31):\n",
    "    for b in range(a,31):\n",
    "        for c in range(1,31):\n",
    "            if a**2+b**2==c**2:\n",
    "                print(a,b,c)"
   ]
  },
  {
   "cell_type": "markdown",
   "metadata": {},
   "source": [
    "2. Modifier le script précédent pour qu'il affiche le nombre N de triplets pythagoriciens avec c ≤ 200."
   ]
  },
  {
   "cell_type": "code",
   "execution_count": 15,
   "metadata": {},
   "outputs": [
    {
     "name": "stdout",
     "output_type": "stream",
     "text": [
      "127\n"
     ]
    }
   ],
   "source": [
    "n=0\n",
    "for a in range(1,201):\n",
    "    for b in range(a,201):\n",
    "        for c in range(1,201):\n",
    "            if a**2+b**2==c**2:\n",
    "                n+=1\n",
    "print(n)"
   ]
  },
  {
   "cell_type": "code",
   "execution_count": null,
   "metadata": {},
   "outputs": [],
   "source": []
  }
 ],
 "metadata": {
  "kernelspec": {
   "display_name": "Python 3",
   "language": "python",
   "name": "python3"
  },
  "language_info": {
   "codemirror_mode": {
    "name": "ipython",
    "version": 3
   },
   "file_extension": ".py",
   "mimetype": "text/x-python",
   "name": "python",
   "nbconvert_exporter": "python",
   "pygments_lexer": "ipython3",
   "version": "3.7.0"
  }
 },
 "nbformat": 4,
 "nbformat_minor": 2
}
